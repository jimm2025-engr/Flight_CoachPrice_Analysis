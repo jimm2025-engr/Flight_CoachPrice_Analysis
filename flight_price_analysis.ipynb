{
 "cells": [
  {
   "cell_type": "markdown",
   "id": "dddb8dee",
   "metadata": {},
   "source": [
    "# ✈️ Flight Coach Price Analysis\n",
    "\n",
    "This notebook explores the distribution of coach flight prices using Python data analysis tools.\n",
    "We visualize price trends and prepare for further statistical modeling and dashboard integration.\n"
   ]
  },
  {
   "cell_type": "code",
   "execution_count": null,
   "id": "6d47a99b",
   "metadata": {},
   "outputs": [],
   "source": [
    "import pandas as pd\n",
    "import numpy as np\n",
    "import seaborn as sns\n",
    "import statsmodels\n",
    "import matplotlib.pyplot as plt\n",
    "import math"
   ]
  },
  {
   "cell_type": "code",
   "execution_count": null,
   "id": "952ecdcf",
   "metadata": {},
   "outputs": [],
   "source": [
    "# Load Data\n",
    "flight = pd.read_csv(\"flight.csv\")\n",
    "flight.head()"
   ]
  },
  {
   "cell_type": "code",
   "execution_count": null,
   "id": "d010dce7",
   "metadata": {},
   "outputs": [],
   "source": [
    "# Statistical Summary of Coach Prices\n",
    "flight[\"coach_price\"].describe()"
   ]
  },
  {
   "cell_type": "code",
   "execution_count": null,
   "id": "dfca4e92",
   "metadata": {},
   "outputs": [],
   "source": [
    "# Histogram of coach prices\n",
    "plt.figure(figsize=(10,6))\n",
    "sns.histplot(flight['coach_price'], kde=True, color='blue', bins=30)\n",
    "plt.title('Distribution of Coach Prices')\n",
    "plt.xlabel('Price')\n",
    "plt.ylabel('Frequency')\n",
    "plt.show()"
   ]
  },
  {
   "cell_type": "markdown",
   "id": "8c712f00",
   "metadata": {},
   "source": [
    "## 🔍 Further Analysis (Coming Soon)\n",
    "Feel free to add regression models or more visualizations here."
   ]
  }
 ],
 "metadata": {},
 "nbformat": 4,
 "nbformat_minor": 5
}
